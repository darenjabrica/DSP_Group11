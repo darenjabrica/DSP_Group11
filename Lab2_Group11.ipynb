{
 "cells": [
  {
   "cell_type": "code",
   "execution_count": 34,
   "id": "e10e5e2c-a81c-4100-9263-9c2cda28d99e",
   "metadata": {},
   "outputs": [
    {
     "name": "stdout",
     "output_type": "stream",
     "text": [
      "Solution:\n",
      "x = 3.4434\n",
      "y = 4.6981\n",
      "z = 1.6226\n",
      "w = 0.2358\n"
     ]
    }
   ],
   "source": [
    "import numpy as np\n",
    "\n",
    "A = np.array([[1, 1, 1, 1],\n",
    "              [2, -1, 3, 4],\n",
    "              [-3, 2, -2, 5],\n",
    "              [1, -1, 4, -1]])\n",
    "\n",
    "b = np.array([10, 8, -3, 5])\n",
    "\n",
    "solution = np.linalg.solve(A, b)\n",
    "\n",
    "print(\"Solution:\")\n",
    "print(f\"x = {solution[0]:.4f}\")\n",
    "print(f\"y = {solution[1]:.4f}\")\n",
    "print(f\"z = {solution[2]:.4f}\")\n",
    "print(f\"w = {solution[3]:.4f}\")\n"
   ]
  },
  {
   "cell_type": "code",
   "execution_count": 30,
   "id": "3b5aedae-51a9-488c-afdc-8f68ed3db650",
   "metadata": {},
   "outputs": [
    {
     "name": "stdout",
     "output_type": "stream",
     "text": [
      "Augmented Matrix [A|b]:\n",
      "[[ 1  1  1  1 10]\n",
      " [ 2 -1  3  4  8]\n",
      " [-3  2 -2  5 -3]\n",
      " [ 1 -1  4 -1  5]]\n"
     ]
    }
   ],
   "source": [
    "## NUMBER 1\n",
    "\n",
    "import numpy as np\n",
    "\n",
    "A = np.array([\n",
    "    [1, 1, 1, 1],\n",
    "    [2, -1, 3, 4],\n",
    "    [-3, 2, -2, 5],\n",
    "    [1, -1, 4, -1]\n",
    "])\n",
    "\n",
    "b = np.array([10, 8, -3, 5])\n",
    "\n",
    "print(\"Augmented Matrix [A|b]:\")\n",
    "augmented_matrix = np.column_stack((A, b))\n",
    "print(augmented_matrix)\n"
   ]
  },
  {
   "cell_type": "code",
   "execution_count": 31,
   "id": "5a861ba0-1dd6-4fa7-b48e-69c518ece94e",
   "metadata": {},
   "outputs": [
    {
     "name": "stdout",
     "output_type": "stream",
     "text": [
      "\n",
      "After eliminating x-terms:\n",
      "[[  1   1   1   1  10]\n",
      " [  0  -3   1   2 -12]\n",
      " [  0   5   1   8  27]\n",
      " [  0  -2   3  -2  -5]]\n"
     ]
    }
   ],
   "source": [
    "A[1] = A[1] - 2 * A[0]\n",
    "b[1] = b[1] - 2 * b[0]\n",
    "\n",
    "A[2] = A[2] + 3 * A[0]\n",
    "b[2] = b[2] + 3 * b[0]\n",
    "\n",
    "A[3] = A[3] - A[0]\n",
    "b[3] = b[3] - b[0]\n",
    "\n",
    "# Display the updated augmented matrix\n",
    "print(\"\\nAfter eliminating x-terms:\")\n",
    "augmented_matrix = np.column_stack((A, b))\n",
    "print(augmented_matrix)"
   ]
  },
  {
   "cell_type": "code",
   "execution_count": 32,
   "id": "90bce575-4ffd-4db0-9851-3a267f00a32e",
   "metadata": {},
   "outputs": [
    {
     "name": "stdout",
     "output_type": "stream",
     "text": [
      "\n",
      "After eliminating y-terms:\n",
      "[[  1   1   1   1  10]\n",
      " [  0  -3   1   2 -12]\n",
      " [  0  10   0   4  47]\n",
      " [  0   0   2  -3   3]]\n"
     ]
    }
   ],
   "source": [
    "A[2] = A[2] - (5/3) * A[1]\n",
    "b[2] = b[2] - (5/3) * b[1]\n",
    "\n",
    "A[3] = A[3] - (2/3) * A[1]\n",
    "b[3] = b[3] - (2/3) * b[1]\n",
    "\n",
    "# Display the updated augmented matrix\n",
    "print(\"\\nAfter eliminating y-terms:\")\n",
    "augmented_matrix = np.column_stack((A, b))\n",
    "print(augmented_matrix)"
   ]
  },
  {
   "cell_type": "code",
   "execution_count": 29,
   "id": "77db8140-b174-4681-9b2c-7748053f48b3",
   "metadata": {},
   "outputs": [
    {
     "name": "stdout",
     "output_type": "stream",
     "text": [
      "\n",
      "Solution:\n",
      "x = -inf\n",
      "y = inf\n",
      "z = inf\n",
      "w = -1.0000\n"
     ]
    },
    {
     "name": "stderr",
     "output_type": "stream",
     "text": [
      "C:\\Users\\dtjab\\AppData\\Local\\Temp\\ipykernel_6936\\1099005645.py:2: RuntimeWarning: divide by zero encountered in scalar divide\n",
      "  z = (b[2] - A[2][3] * w) / A[2][2]\n"
     ]
    }
   ],
   "source": [
    "w = b[3] / A[3][3]\n",
    "z = (b[2] - A[2][3] * w) / A[2][2]\n",
    "y = (b[1] - A[1][2] * z - A[1][3] * w) / A[1][1]\n",
    "x = (b[0] - A[0][1] * y - A[0][2] * z - A[0][3] * w) / A[0][0]\n",
    "\n",
    "# Output the solution\n",
    "print(\"\\nSolution:\")\n",
    "print(f\"x = {x:.4f}\")\n",
    "print(f\"y = {y:.4f}\")\n",
    "print(f\"z = {z:.4f}\")\n",
    "print(f\"w = {w:.4f}\")"
   ]
  },
  {
   "cell_type": "code",
   "execution_count": 47,
   "id": "10f4625b-c864-459a-ab59-55a8c847752b",
   "metadata": {},
   "outputs": [
    {
     "name": "stdout",
     "output_type": "stream",
     "text": [
      "0.00967741935483871 0.004193548387096773 0.013870967741935485\n",
      "12.000000000000002\n",
      "15.0\n"
     ]
    }
   ],
   "source": [
    "i = np.array([[1500, -600,0], [0,600,900], [1,1, -1]]) \n",
    "v = np.array ([12,15,0])\n",
    "\n",
    "cur = np.linalg.solve (i, v)\n",
    "\n",
    "i1, i2, i3 = cur \n",
    "\n",
    "print (i1,i2,i3)\n",
    "print ((i1*1500)-(i2*600))\n",
    "print ((i2*600)+(i3*900))"
   ]
  },
  {
   "cell_type": "code",
   "execution_count": 49,
   "id": "6f8c60fc-e6fb-4b10-9d67-b0f9c0c5369d",
   "metadata": {},
   "outputs": [
    {
     "data": {
      "text/plain": [
       "array([[-0.375, -0.125,  0.625],\n",
       "       [-0.125,  0.625, -0.125],\n",
       "       [ 0.625, -0.125, -0.375]])"
      ]
     },
     "execution_count": 49,
     "metadata": {},
     "output_type": "execute_result"
    }
   ],
   "source": [
    "\n",
    "A = np.array([[2,1,3], [1,2,1], [3,1,2]])\n",
    "A_inv = np.linalg.inv(A)\n",
    "A_inv\n"
   ]
  },
  {
   "cell_type": "code",
   "execution_count": null,
   "id": "33e45b66-a9d4-4dcd-8222-b1e00d31f160",
   "metadata": {},
   "outputs": [],
   "source": []
  }
 ],
 "metadata": {
  "kernelspec": {
   "display_name": "Python 3 (ipykernel)",
   "language": "python",
   "name": "python3"
  },
  "language_info": {
   "codemirror_mode": {
    "name": "ipython",
    "version": 3
   },
   "file_extension": ".py",
   "mimetype": "text/x-python",
   "name": "python",
   "nbconvert_exporter": "python",
   "pygments_lexer": "ipython3",
   "version": "3.11.7"
  }
 },
 "nbformat": 4,
 "nbformat_minor": 5
}
