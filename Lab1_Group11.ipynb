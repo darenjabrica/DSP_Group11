{
 "cells": [
  {
   "cell_type": "code",
   "execution_count": 30,
   "id": "142b743b-5fb4-406f-b6f9-e08b1d9c8507",
   "metadata": {},
   "outputs": [
    {
     "name": "stdout",
     "output_type": "stream",
     "text": [
      "====================================================================================\n"
     ]
    },
    {
     "name": "stdin",
     "output_type": "stream",
     "text": [
      "Enter your name:  Daren Jabrica\n",
      "Enter your course:  BS CpE\n",
      "Enter your Prelim grade:  70\n",
      "Enter your Midterm grade:  69\n",
      "Enter your Final grade:  71\n"
     ]
    },
    {
     "name": "stdout",
     "output_type": "stream",
     "text": [
      "\n",
      "Name: Daren Jabrica\n",
      "Course: BS CpE\n",
      "Semestral Grade: 70.00\n",
      "😆 - Grade is exactly 70.00\n"
     ]
    },
    {
     "name": "stdin",
     "output_type": "stream",
     "text": [
      "\n",
      "Do you want to see the grade letter equivalent? Enter 1 for Yes, 2 for No:  1\n"
     ]
    },
    {
     "name": "stdout",
     "output_type": "stream",
     "text": [
      "Grade Letter Equivalent: 3.00 = D (Passed)\n"
     ]
    },
    {
     "name": "stdin",
     "output_type": "stream",
     "text": [
      "\n",
      "Do you want to start again? Enter 1 for Yes, 2 for No:  1\n"
     ]
    },
    {
     "name": "stdout",
     "output_type": "stream",
     "text": [
      "\n",
      "====================================================================================\n",
      "====================================================================================\n"
     ]
    },
    {
     "name": "stdin",
     "output_type": "stream",
     "text": [
      "Enter your name:  Aldrich Renzo Belen\n",
      "Enter your course:  BS CpE\n",
      "Enter your Prelim grade:  84\n",
      "Enter your Midterm grade:  85\n",
      "Enter your Final grade:  91.7\n"
     ]
    },
    {
     "name": "stdout",
     "output_type": "stream",
     "text": [
      "\n",
      "Name: Aldrich Renzo Belen\n",
      "Course: BS CpE\n",
      "Semestral Grade: 86.90\n",
      "😀 - Grade is greater than 70.00\n"
     ]
    },
    {
     "name": "stdin",
     "output_type": "stream",
     "text": [
      "\n",
      "Do you want to see the grade letter equivalent? Enter 1 for Yes, 2 for No:  1\n"
     ]
    },
    {
     "name": "stdout",
     "output_type": "stream",
     "text": [
      "Grade Letter Equivalent: 1.75 = B (Average)\n"
     ]
    },
    {
     "name": "stdin",
     "output_type": "stream",
     "text": [
      "\n",
      "Do you want to start again? Enter 1 for Yes, 2 for No:  1\n"
     ]
    },
    {
     "name": "stdout",
     "output_type": "stream",
     "text": [
      "\n",
      "====================================================================================\n",
      "====================================================================================\n"
     ]
    },
    {
     "name": "stdin",
     "output_type": "stream",
     "text": [
      "Enter your name:  Naruto Uzumaki\n",
      "Enter your course:  BS Ninja\n",
      "Enter your Prelim grade:  69\n",
      "Enter your Midterm grade:  66\n",
      "Enter your Final grade:  68\n"
     ]
    },
    {
     "name": "stdout",
     "output_type": "stream",
     "text": [
      "\n",
      "Name: Naruto Uzumaki\n",
      "Course: BS Ninja\n",
      "Semestral Grade: 67.67\n",
      "😭 - Grade is below 70.00\n"
     ]
    },
    {
     "name": "stdin",
     "output_type": "stream",
     "text": [
      "\n",
      "Do you want to see the grade letter equivalent? Enter 1 for Yes, 2 for No:  2\n"
     ]
    },
    {
     "name": "stdout",
     "output_type": "stream",
     "text": [
      "You chose not to display the grade letter equivalent.\n"
     ]
    },
    {
     "name": "stdin",
     "output_type": "stream",
     "text": [
      "\n",
      "Do you want to start again? Enter 1 for Yes, 2 for No:  2\n"
     ]
    },
    {
     "name": "stdout",
     "output_type": "stream",
     "text": [
      "Goodbye!\n"
     ]
    }
   ],
   "source": [
    "happy = \"\\U0001F600\"\n",
    "lol = \"\\U0001F606\"\n",
    "sad = \"\\U0001F62D\"\n",
    "\n",
    "def cal_grade(prelim, midterm, final):\n",
    "    return (prelim + midterm + final) / 3\n",
    "\n",
    "def dis_emo(grade):\n",
    "    if grade > 70.00:\n",
    "        return f\"{happy} - Grade is greater than 70.00\"\n",
    "    elif grade == 70.00:\n",
    "        return f\"{lol} - Grade is exactly 70.00\"\n",
    "    else:\n",
    "        return f\"{sad} - Grade is below 70.00\"\n",
    "\n",
    "def grade_equiv(sem_grade):\n",
    "    if sem_grade >= 97:\n",
    "        return \"1.00 = A (Excellent)\"\n",
    "    elif sem_grade >= 93:\n",
    "        return \"1.25 = A- (Superior)\"\n",
    "    elif sem_grade >= 89:\n",
    "        return \"1.50 = B+ (Superior)\"\n",
    "    elif sem_grade >= 85:\n",
    "        return \"1.75 = B (Average)\"\n",
    "    elif sem_grade >= 82:\n",
    "        return \"2.00 = B- (Average)\"\n",
    "    elif sem_grade >= 79:\n",
    "        return \"2.25 = C+ (Passed)\"\n",
    "    elif sem_grade >= 76:\n",
    "        return \"2.50 = C (Passed)\"\n",
    "    elif sem_grade >= 73:\n",
    "        return \"2.75 = C- (Passed)\"\n",
    "    elif sem_grade >= 70:\n",
    "        return \"3.00 = D (Passed)\"\n",
    "    elif sem_grade < 70:\n",
    "        return \"5.00 = F (Failed)\"\n",
    "    else:\n",
    "        return \"Invalid grade\"\n",
    "\n",
    "def main():\n",
    "    while True:\n",
    "        print(\"====================================================================================\")\n",
    "        \n",
    "        name = input(\"Enter your name: \")\n",
    "        course = input(\"Enter your course: \")\n",
    "        prelim = float(input(\"Enter your Prelim grade: \"))\n",
    "        midterm = float(input(\"Enter your Midterm grade: \"))\n",
    "        final = float(input(\"Enter your Final grade: \"))\n",
    "        \n",
    "        sem_grade = cal_grade(prelim, midterm, final)\n",
    "        \n",
    "        print(f\"\\nName: {name}\")\n",
    "        print(f\"Course: {course}\")\n",
    "        print(f\"Semestral Grade: {sem_grade:.2f}\")\n",
    "        print(dis_emo(sem_grade))\n",
    "        \n",
    "        while True:\n",
    "            show_equivalent = input(\"\\nDo you want to see the grade letter equivalent? Enter 1 for Yes, 2 for No: \").strip()\n",
    "            \n",
    "            if show_equivalent == \"1\":\n",
    "                print(f\"Grade Letter Equivalent: {grade_equiv(sem_grade)}\")\n",
    "                break\n",
    "            elif show_equivalent == \"2\":\n",
    "                print(\"You chose not to display the grade letter equivalent.\")\n",
    "                break\n",
    "            else:\n",
    "                print(\"Invalid input. Please enter 1 for Yes or 2 for No.\")\n",
    "        \n",
    "        while True:\n",
    "            restart = input(\"\\nDo you want to start again? Enter 1 for Yes, 2 for No: \").strip()\n",
    "            if restart == \"1\":\n",
    "                print(\"\\n====================================================================================\")\n",
    "                break\n",
    "            elif restart == \"2\":\n",
    "                print(\"Goodbye!\")\n",
    "                return\n",
    "            else:\n",
    "                print(\"Invalid input. Please enter 1 for Yes or 2 for No.\")\n",
    "\n",
    "if __name__ == \"__main__\":\n",
    "    main()\n"
   ]
  },
  {
   "cell_type": "code",
   "execution_count": null,
   "id": "4734d3cf-c334-48f2-8e49-eb9b25fcd476",
   "metadata": {},
   "outputs": [],
   "source": []
  },
  {
   "cell_type": "code",
   "execution_count": null,
   "id": "6e5c5733-3c3e-4a31-925e-e5350746c089",
   "metadata": {},
   "outputs": [],
   "source": []
  },
  {
   "cell_type": "code",
   "execution_count": null,
   "id": "a9f0d450-e3c8-41ce-999a-1bd888e8a015",
   "metadata": {},
   "outputs": [],
   "source": []
  }
 ],
 "metadata": {
  "kernelspec": {
   "display_name": "Python 3 (ipykernel)",
   "language": "python",
   "name": "python3"
  },
  "language_info": {
   "codemirror_mode": {
    "name": "ipython",
    "version": 3
   },
   "file_extension": ".py",
   "mimetype": "text/x-python",
   "name": "python",
   "nbconvert_exporter": "python",
   "pygments_lexer": "ipython3",
   "version": "3.11.7"
  }
 },
 "nbformat": 4,
 "nbformat_minor": 5
}
